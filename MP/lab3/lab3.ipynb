{
 "cells": [
  {
   "cell_type": "markdown",
   "id": "f88f07e5",
   "metadata": {},
   "source": [
    "## Лабораторная работа№3"
   ]
  },
  {
   "cell_type": "markdown",
   "id": "5fd4393b",
   "metadata": {},
   "source": [
    "Цель работы: практическое применение библиотеки символьных вычислений Python (SymPy) для решения задач дискретной математики и математической логики.\n",
    "\n",
    "Вариант 12"
   ]
  },
  {
   "cell_type": "markdown",
   "id": "7ad04adf",
   "metadata": {},
   "source": [
    "**Задачи лабораторной работы:**\n",
    "1. Решить свой вариант диофантова уравнения.\n",
    "2. Имея открытую часть ключа RSA найти соответствующую закрытую часть и расшифровать кодированное слово.\n",
    "3. Записать в формате ДНФ и КНФ булеву функцию, заданную своим аналитическим выражением."
   ]
  },
  {
   "cell_type": "code",
   "execution_count": 55,
   "id": "8b4dcc10",
   "metadata": {},
   "outputs": [],
   "source": [
    "from sympy.solvers.diophantine import diophantine\n",
    "from sympy import symbols\n",
    "from sympy.crypto.crypto import decipher_rsa\n",
    "from sympy.crypto.crypto import rsa_private_key\n",
    "from sympy.logic.boolalg import to_cnf, to_dnf\n",
    "from sympy.abc import A, B, C\n",
    "from sympy.logic.boolalg import Xor"
   ]
  },
  {
   "cell_type": "markdown",
   "id": "af6da502",
   "metadata": {},
   "source": [
    "**1. Диофантово уравнение:**\n",
    "\n",
    "Решить диофантово уравнение: 3783x− 2431y = −117"
   ]
  },
  {
   "cell_type": "code",
   "execution_count": 56,
   "id": "bec63363",
   "metadata": {},
   "outputs": [
    {
     "data": {
      "text/plain": [
       "{(187*t_0 + 81, 291*t_0 + 126)}"
      ]
     },
     "execution_count": 56,
     "metadata": {},
     "output_type": "execute_result"
    }
   ],
   "source": [
    "a = 3783\n",
    "b = 2431\n",
    "c = 117\n",
    "\n",
    "x, y = symbols(\"x, y\")\n",
    "diophantine(a*x - b*y - c)"
   ]
  },
  {
   "cell_type": "markdown",
   "id": "0e0d3fa1",
   "metadata": {},
   "source": [
    "81, 126"
   ]
  },
  {
   "cell_type": "markdown",
   "id": "806c904a",
   "metadata": {},
   "source": [
    "**2. Имея открытую часть ключа RSA найти соответствующую закрытую часть и расшифровать кодированное слово:**\n",
    "\n",
    "Русское слово из четырех букв закодировано при помощи алгоритма RSA открытым ключом (e = 11,m = 39).\n",
    "Шифрованное сообщение имеет вид (36; 21; 22; 37). Подберите закрытую часть ключа и прочитайте исходное слово.\n",
    "Буквам русского алфавита соответсвуют числа в диапазоне от 2 до 32 (исключены буквы “e” и “ъ”)."
   ]
  },
  {
   "cell_type": "code",
   "execution_count": 57,
   "id": "4cc27a3b",
   "metadata": {},
   "outputs": [
    {
     "name": "stdout",
     "output_type": "stream",
     "text": [
      "[18, 30, 19, 16]\n"
     ]
    }
   ],
   "source": [
    "e = 11\n",
    "m = 39\n",
    "message = {36, 21, 22, 37} \n",
    "prk = rsa_private_key(m, e)\n",
    "answer = []\n",
    "for i in message:\n",
    "    answer.append(decipher_rsa(i, prk))\n",
    "print(answer)"
   ]
  },
  {
   "cell_type": "code",
   "execution_count": 58,
   "id": "99ca16b7",
   "metadata": {
    "scrolled": true
   },
   "outputs": [
    {
     "name": "stdout",
     "output_type": "stream",
     "text": [
      "р\n",
      "э\n",
      "с\n",
      "о\n"
     ]
    }
   ],
   "source": [
    "alphabet =['а', 'б', 'в', 'г', 'д', 'е', 'ж', 'з', 'и', 'й', 'к', 'л', 'м', 'н', 'о', 'п',\n",
    "           'р', 'с', 'т', 'у', 'ф', 'х', 'ц', 'ч', 'ш', 'щ', 'ы', 'ь', 'э', 'ю', 'я']\n",
    "for i in answer:\n",
    "    print(alphabet[i - 2])"
   ]
  },
  {
   "cell_type": "markdown",
   "id": "2d0ce43e",
   "metadata": {},
   "source": [
    "**3. Записать в формате ДНФ и КНФ булеву функцию, заданную своим аналитическим выражением:**"
   ]
  },
  {
   "cell_type": "markdown",
   "id": "19d2ad0c",
   "metadata": {},
   "source": [
    "f(x, y, z) = (x ∨ (z xor y)) ∨ ((yx) xor (xz)):"
   ]
  },
  {
   "cell_type": "code",
   "execution_count": 59,
   "id": "87a37048",
   "metadata": {},
   "outputs": [
    {
     "name": "stdout",
     "output_type": "stream",
     "text": [
      "ДНФ: A | (B & ~C) | (C & ~B)\n",
      "КНФ: (A | B | C) & (A | ~B | ~C)\n"
     ]
    }
   ],
   "source": [
    "print(\"ДНФ:\", to_dnf((A | Xor(C, B)) | (Xor((B & A), (A & C))), simplify=True))\n",
    "print(\"КНФ:\", to_cnf((A | Xor(C, B)) | (Xor((B & A), (A & C))), simplify=True))"
   ]
  },
  {
   "cell_type": "markdown",
   "id": "5e4f008f",
   "metadata": {},
   "source": [
    "**Вывод:**"
   ]
  },
  {
   "cell_type": "markdown",
   "id": "ada7acf6",
   "metadata": {},
   "source": [
    "В ходе выполнения лабораторной работы была применена на практике библиотека языка Python SymPy, с помощью которой решались задачи по дискретной математике и математической логике."
   ]
  }
 ],
 "metadata": {
  "kernelspec": {
   "display_name": "Python 3 (ipykernel)",
   "language": "python",
   "name": "python3"
  },
  "language_info": {
   "codemirror_mode": {
    "name": "ipython",
    "version": 3
   },
   "file_extension": ".py",
   "mimetype": "text/x-python",
   "name": "python",
   "nbconvert_exporter": "python",
   "pygments_lexer": "ipython3",
   "version": "3.10.0"
  }
 },
 "nbformat": 4,
 "nbformat_minor": 5
}
