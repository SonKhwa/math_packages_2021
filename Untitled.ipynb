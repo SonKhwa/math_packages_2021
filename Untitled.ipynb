{
 "cells": [
  {
   "cell_type": "markdown",
   "id": "8b2c40bd",
   "metadata": {},
   "source": [
    "**Индивидуальная домашняя работа 2**"
   ]
  },
  {
   "cell_type": "markdown",
   "id": "1288022f",
   "metadata": {},
   "source": [
    "1.\tВыполним задания на основе данных из таблицы 1 (выборка из дискретно-го распределения)."
   ]
  },
  {
   "cell_type": "code",
   "execution_count": 74,
   "id": "e334600f",
   "metadata": {},
   "outputs": [],
   "source": [
    "alpha_1 <- 0.01\n",
    "a <- 1.27\n",
    "b <- 4.73\n",
    "lmbd_0 <- 5.00\n",
    "lmbd_1 <- 3.00\n",
    "\n",
    "alpha_2 <- 0.01\n",
    "c <- 1.88 \n",
    "d <- 2.12\n",
    "h <- 0.05\n",
    "a_0 <- 2.22\n",
    "sigma_0 <- 0.20\n",
    "a_1 <- 2.00\n",
    "sigma_1 <- 0.20\n",
    "\n",
    "x1 <- c(3,2,2,2,0,6,1,5,4,6,7,2,3,1,2,6,1,3,2,4,5,5,2,3,8,2,4,2,1,0,4,5,2,5,2,3,2,4,7,3,2,2,1,3,3,1,2,2,1,3)\n",
    "x2 <- c(2.093, 1.731, 2.264, 1.890, 2.184, 1.717, 1.428, 2.126, 2.252, 2.032, 1.902, 2.032, 2.103, 1.927, 1.984, 2.162, 1.614, 1.909, 1.961, 2.229, 2.042,1.771, 1.797, 2.123, 2.422, 1.983, 1.919, 1.879, 1.946, 2.160, 1.991, 2.155, 1.747, 1.802, 1.888, 1.738, 2.114, 2.065, 2.128, 2.258, 2.026, 1.647,2.296, 1.612, 1.803, 2.043, 2.113, 2.141, 2.005, 1.758)"
   ]
  },
  {
   "cell_type": "markdown",
   "id": "121642c1",
   "metadata": {},
   "source": [
    "**a)\tПостроим вариационный ряд, эмпирическую функцию распределения и гистограмму частот.**"
   ]
  },
  {
   "cell_type": "markdown",
   "id": "1672312b",
   "metadata": {},
   "source": [
    "Вариационный ряд:\n"
   ]
  },
  {
   "cell_type": "code",
   "execution_count": 2,
   "id": "2deba495",
   "metadata": {},
   "outputs": [
    {
     "data": {
      "text/html": [
       "<ol class=list-inline>\n",
       "\t<li>0</li>\n",
       "\t<li>0</li>\n",
       "\t<li>1</li>\n",
       "\t<li>1</li>\n",
       "\t<li>1</li>\n",
       "\t<li>1</li>\n",
       "\t<li>1</li>\n",
       "\t<li>1</li>\n",
       "\t<li>1</li>\n",
       "\t<li>2</li>\n",
       "\t<li>2</li>\n",
       "\t<li>2</li>\n",
       "\t<li>2</li>\n",
       "\t<li>2</li>\n",
       "\t<li>2</li>\n",
       "\t<li>2</li>\n",
       "\t<li>2</li>\n",
       "\t<li>2</li>\n",
       "\t<li>2</li>\n",
       "\t<li>2</li>\n",
       "\t<li>2</li>\n",
       "\t<li>2</li>\n",
       "\t<li>2</li>\n",
       "\t<li>2</li>\n",
       "\t<li>2</li>\n",
       "\t<li>3</li>\n",
       "\t<li>3</li>\n",
       "\t<li>3</li>\n",
       "\t<li>3</li>\n",
       "\t<li>3</li>\n",
       "\t<li>3</li>\n",
       "\t<li>3</li>\n",
       "\t<li>3</li>\n",
       "\t<li>3</li>\n",
       "\t<li>4</li>\n",
       "\t<li>4</li>\n",
       "\t<li>4</li>\n",
       "\t<li>4</li>\n",
       "\t<li>4</li>\n",
       "\t<li>5</li>\n",
       "\t<li>5</li>\n",
       "\t<li>5</li>\n",
       "\t<li>5</li>\n",
       "\t<li>5</li>\n",
       "\t<li>6</li>\n",
       "\t<li>6</li>\n",
       "\t<li>6</li>\n",
       "\t<li>7</li>\n",
       "\t<li>7</li>\n",
       "\t<li>8</li>\n",
       "</ol>\n"
      ],
      "text/latex": [
       "\\begin{enumerate*}\n",
       "\\item 0\n",
       "\\item 0\n",
       "\\item 1\n",
       "\\item 1\n",
       "\\item 1\n",
       "\\item 1\n",
       "\\item 1\n",
       "\\item 1\n",
       "\\item 1\n",
       "\\item 2\n",
       "\\item 2\n",
       "\\item 2\n",
       "\\item 2\n",
       "\\item 2\n",
       "\\item 2\n",
       "\\item 2\n",
       "\\item 2\n",
       "\\item 2\n",
       "\\item 2\n",
       "\\item 2\n",
       "\\item 2\n",
       "\\item 2\n",
       "\\item 2\n",
       "\\item 2\n",
       "\\item 2\n",
       "\\item 3\n",
       "\\item 3\n",
       "\\item 3\n",
       "\\item 3\n",
       "\\item 3\n",
       "\\item 3\n",
       "\\item 3\n",
       "\\item 3\n",
       "\\item 3\n",
       "\\item 4\n",
       "\\item 4\n",
       "\\item 4\n",
       "\\item 4\n",
       "\\item 4\n",
       "\\item 5\n",
       "\\item 5\n",
       "\\item 5\n",
       "\\item 5\n",
       "\\item 5\n",
       "\\item 6\n",
       "\\item 6\n",
       "\\item 6\n",
       "\\item 7\n",
       "\\item 7\n",
       "\\item 8\n",
       "\\end{enumerate*}\n"
      ],
      "text/markdown": [
       "1. 0\n",
       "2. 0\n",
       "3. 1\n",
       "4. 1\n",
       "5. 1\n",
       "6. 1\n",
       "7. 1\n",
       "8. 1\n",
       "9. 1\n",
       "10. 2\n",
       "11. 2\n",
       "12. 2\n",
       "13. 2\n",
       "14. 2\n",
       "15. 2\n",
       "16. 2\n",
       "17. 2\n",
       "18. 2\n",
       "19. 2\n",
       "20. 2\n",
       "21. 2\n",
       "22. 2\n",
       "23. 2\n",
       "24. 2\n",
       "25. 2\n",
       "26. 3\n",
       "27. 3\n",
       "28. 3\n",
       "29. 3\n",
       "30. 3\n",
       "31. 3\n",
       "32. 3\n",
       "33. 3\n",
       "34. 3\n",
       "35. 4\n",
       "36. 4\n",
       "37. 4\n",
       "38. 4\n",
       "39. 4\n",
       "40. 5\n",
       "41. 5\n",
       "42. 5\n",
       "43. 5\n",
       "44. 5\n",
       "45. 6\n",
       "46. 6\n",
       "47. 6\n",
       "48. 7\n",
       "49. 7\n",
       "50. 8\n",
       "\n",
       "\n"
      ],
      "text/plain": [
       " [1] 0 0 1 1 1 1 1 1 1 2 2 2 2 2 2 2 2 2 2 2 2 2 2 2 2 3 3 3 3 3 3 3 3 3 4 4 4 4\n",
       "[39] 4 5 5 5 5 5 6 6 6 7 7 8"
      ]
     },
     "metadata": {},
     "output_type": "display_data"
    },
    {
     "data": {
      "text/html": [
       "<ol class=list-inline>\n",
       "\t<li>1.428</li>\n",
       "\t<li>1.612</li>\n",
       "\t<li>1.614</li>\n",
       "\t<li>1.647</li>\n",
       "\t<li>1.717</li>\n",
       "\t<li>1.731</li>\n",
       "\t<li>1.738</li>\n",
       "\t<li>1.747</li>\n",
       "\t<li>1.758</li>\n",
       "\t<li>1.771</li>\n",
       "\t<li>1.797</li>\n",
       "\t<li>1.802</li>\n",
       "\t<li>1.803</li>\n",
       "\t<li>1.879</li>\n",
       "\t<li>1.888</li>\n",
       "\t<li>1.89</li>\n",
       "\t<li>1.902</li>\n",
       "\t<li>1.909</li>\n",
       "\t<li>1.919</li>\n",
       "\t<li>1.927</li>\n",
       "\t<li>1.946</li>\n",
       "\t<li>1.961</li>\n",
       "\t<li>1.983</li>\n",
       "\t<li>1.984</li>\n",
       "\t<li>1.991</li>\n",
       "\t<li>2.005</li>\n",
       "\t<li>2.026</li>\n",
       "\t<li>2.032</li>\n",
       "\t<li>2.032</li>\n",
       "\t<li>2.042</li>\n",
       "\t<li>2.043</li>\n",
       "\t<li>2.065</li>\n",
       "\t<li>2.093</li>\n",
       "\t<li>2.103</li>\n",
       "\t<li>2.113</li>\n",
       "\t<li>2.114</li>\n",
       "\t<li>2.123</li>\n",
       "\t<li>2.126</li>\n",
       "\t<li>2.128</li>\n",
       "\t<li>2.141</li>\n",
       "\t<li>2.155</li>\n",
       "\t<li>2.16</li>\n",
       "\t<li>2.162</li>\n",
       "\t<li>2.184</li>\n",
       "\t<li>2.229</li>\n",
       "\t<li>2.252</li>\n",
       "\t<li>2.258</li>\n",
       "\t<li>2.264</li>\n",
       "\t<li>2.296</li>\n",
       "\t<li>2.422</li>\n",
       "</ol>\n"
      ],
      "text/latex": [
       "\\begin{enumerate*}\n",
       "\\item 1.428\n",
       "\\item 1.612\n",
       "\\item 1.614\n",
       "\\item 1.647\n",
       "\\item 1.717\n",
       "\\item 1.731\n",
       "\\item 1.738\n",
       "\\item 1.747\n",
       "\\item 1.758\n",
       "\\item 1.771\n",
       "\\item 1.797\n",
       "\\item 1.802\n",
       "\\item 1.803\n",
       "\\item 1.879\n",
       "\\item 1.888\n",
       "\\item 1.89\n",
       "\\item 1.902\n",
       "\\item 1.909\n",
       "\\item 1.919\n",
       "\\item 1.927\n",
       "\\item 1.946\n",
       "\\item 1.961\n",
       "\\item 1.983\n",
       "\\item 1.984\n",
       "\\item 1.991\n",
       "\\item 2.005\n",
       "\\item 2.026\n",
       "\\item 2.032\n",
       "\\item 2.032\n",
       "\\item 2.042\n",
       "\\item 2.043\n",
       "\\item 2.065\n",
       "\\item 2.093\n",
       "\\item 2.103\n",
       "\\item 2.113\n",
       "\\item 2.114\n",
       "\\item 2.123\n",
       "\\item 2.126\n",
       "\\item 2.128\n",
       "\\item 2.141\n",
       "\\item 2.155\n",
       "\\item 2.16\n",
       "\\item 2.162\n",
       "\\item 2.184\n",
       "\\item 2.229\n",
       "\\item 2.252\n",
       "\\item 2.258\n",
       "\\item 2.264\n",
       "\\item 2.296\n",
       "\\item 2.422\n",
       "\\end{enumerate*}\n"
      ],
      "text/markdown": [
       "1. 1.428\n",
       "2. 1.612\n",
       "3. 1.614\n",
       "4. 1.647\n",
       "5. 1.717\n",
       "6. 1.731\n",
       "7. 1.738\n",
       "8. 1.747\n",
       "9. 1.758\n",
       "10. 1.771\n",
       "11. 1.797\n",
       "12. 1.802\n",
       "13. 1.803\n",
       "14. 1.879\n",
       "15. 1.888\n",
       "16. 1.89\n",
       "17. 1.902\n",
       "18. 1.909\n",
       "19. 1.919\n",
       "20. 1.927\n",
       "21. 1.946\n",
       "22. 1.961\n",
       "23. 1.983\n",
       "24. 1.984\n",
       "25. 1.991\n",
       "26. 2.005\n",
       "27. 2.026\n",
       "28. 2.032\n",
       "29. 2.032\n",
       "30. 2.042\n",
       "31. 2.043\n",
       "32. 2.065\n",
       "33. 2.093\n",
       "34. 2.103\n",
       "35. 2.113\n",
       "36. 2.114\n",
       "37. 2.123\n",
       "38. 2.126\n",
       "39. 2.128\n",
       "40. 2.141\n",
       "41. 2.155\n",
       "42. 2.16\n",
       "43. 2.162\n",
       "44. 2.184\n",
       "45. 2.229\n",
       "46. 2.252\n",
       "47. 2.258\n",
       "48. 2.264\n",
       "49. 2.296\n",
       "50. 2.422\n",
       "\n",
       "\n"
      ],
      "text/plain": [
       " [1] 1.428 1.612 1.614 1.647 1.717 1.731 1.738 1.747 1.758 1.771 1.797 1.802\n",
       "[13] 1.803 1.879 1.888 1.890 1.902 1.909 1.919 1.927 1.946 1.961 1.983 1.984\n",
       "[25] 1.991 2.005 2.026 2.032 2.032 2.042 2.043 2.065 2.093 2.103 2.113 2.114\n",
       "[37] 2.123 2.126 2.128 2.141 2.155 2.160 2.162 2.184 2.229 2.252 2.258 2.264\n",
       "[49] 2.296 2.422"
      ]
     },
     "metadata": {},
     "output_type": "display_data"
    }
   ],
   "source": [
    "X1 <- sort(x1)\n",
    "X2 <- sort(x2)\n",
    "X1\n",
    "X2"
   ]
  },
  {
   "cell_type": "markdown",
   "id": "fd2bd57e",
   "metadata": {},
   "source": [
    "Эмпирическая функция распределения:\n",
    "\n",
    "Эмпирическая функция распределения – это аналог функции распределения $$F(X=x) = 1/n \\sum_{x_i <=x}(x_i) $$"
   ]
  },
  {
   "cell_type": "code",
   "execution_count": 3,
   "id": "d5959e4f",
   "metadata": {},
   "outputs": [
    {
     "data": {
      "image/png": "[encoded data removed]",
      "text/plain": [
       "Plot with title \"Выборочная функция распределения 1\""
      ]
     },
     "metadata": {},
     "output_type": "display_data"
    },
    {
     "data": {
      "image/png": "[encoded data removed]",
      "text/plain": [
       "Plot with title \"Выборочная функция распределения 2\""
      ]
     },
     "metadata": {},
     "output_type": "display_data"
    }
   ],
   "source": [
    "plot.ecdf(X1, main = \"Выборочная функция распределения 1\")\n",
    "plot.ecdf(X2, main = \"Выборочная функция распределения 2\")"
   ]
  },
  {
   "cell_type": "markdown",
   "id": "91b09f70",
   "metadata": {},
   "source": [
    "Гистограмма частот:\n",
    "\n",
    "Гистограмма частот характеризует выборку тем, что говорит сколько элементов попало в некоторый отрезок, разбивая множество на отрезки некоторой длины, является аналогом плотности распределения."
   ]
  },
  {
   "cell_type": "code",
   "execution_count": 4,
   "id": "89276b66",
   "metadata": {},
   "outputs": [
    {
     "data": {
      "image/png": "[encoded data removed]",
      "text/plain": [
       "Plot with title \"Гистограмма частот\""
      ]
     },
     "metadata": {},
     "output_type": "display_data"
    }
   ],
   "source": [
    "hist(x1,breaks=c(min(x1):max(x1)),right=TRUE,col=\"grey\", main = \"Гистограмма частот\")"
   ]
  },
  {
   "cell_type": "code",
   "execution_count": 76,
   "id": "51928265",
   "metadata": {},
   "outputs": [
    {
     "data": {
      "image/png": "[encoded data removed]",
      "text/plain": [
       "Plot with title \"Полигон частот с шагом h = 0.05\""
      ]
     },
     "metadata": {},
     "output_type": "display_data"
    }
   ],
   "source": [
    "h2 <- hist(x2,breaks=seq(0, max(x2)+1, by=h) ,col=\"grey\", main = \"Полигон частот с шагом h = 0.05\")\n",
    "lines(h2$counts~h2$mids, col=\"red\")"
   ]
  },
  {
   "cell_type": "markdown",
   "id": "b422791a",
   "metadata": {},
   "source": [
    "**b)\tВычислим выборочные аналоги следующих числовых характеристик:**\n",
    "- (i) математического ожидания\n",
    "- (ii) дисперсии\n",
    "- (iii) медианы\n",
    "- (iv) асимметрии\n",
    "- (v) эксцесса\n",
    "- (vi) вероятности $P(X∈[c,d])$"
   ]
  },
  {
   "cell_type": "markdown",
   "id": "d3d63f58",
   "metadata": {},
   "source": [
    "Математическое ожидание рассчитывается по формуле: $$ \\mu = E(x) = \\int_{-\\infty}^\\infty x * p(x) * dx $$ $$ E(x) = \\sum_{i=1}^n x_ip_i = 1/n \\sum_{i=1}^nx_i$$"
   ]
  },
  {
   "cell_type": "code",
   "execution_count": 6,
   "id": "79ddf14e",
   "metadata": {},
   "outputs": [
    {
     "data": {
      "text/html": [
       "3.02"
      ],
      "text/latex": [
       "3.02"
      ],
      "text/markdown": [
       "3.02"
      ],
      "text/plain": [
       "[1] 3.02"
      ]
     },
     "metadata": {},
     "output_type": "display_data"
    }
   ],
   "source": [
    "mean<-sum(x1)/length(x1)\n",
    "mean"
   ]
  },
  {
   "cell_type": "markdown",
   "id": "520fe167",
   "metadata": {},
   "source": [
    "Формула дисперсии: $$ D(x) = E(x^2) - (E(x))^2 = 1/n \\sum_{i=1}^n x_i^2 - 1/(n^2) \\sum_{i=1}^nx_i^2 $$"
   ]
  },
  {
   "cell_type": "code",
   "execution_count": 7,
   "id": "674b2c90",
   "metadata": {},
   "outputs": [
    {
     "data": {
      "text/html": [
       "3.4196"
      ],
      "text/latex": [
       "3.4196"
      ],
      "text/markdown": [
       "3.4196"
      ],
      "text/plain": [
       "[1] 3.4196"
      ]
     },
     "metadata": {},
     "output_type": "display_data"
    }
   ],
   "source": [
    "variance<-sum(x1^2)/length(x1)-mean^2\n",
    "variance "
   ]
  },
  {
   "cell_type": "markdown",
   "id": "b94d1f3d",
   "metadata": {},
   "source": [
    "Формула для нахождения медианы: $$ M_e = \\left\\{\n",
    "    \\begin{array}\\\\\n",
    "        X_{np} & \\mbox{if } \\ np \\in \\mathbf{Z} \\\\\n",
    "        (X_{np} + X_{np + 1})/2 & \\mbox{if } \\ np \\not \\in \\mathbf{Z} \\\\\n",
    "    \\end{array}\n",
    "\\right. $$ при $ p = 1/2 $"
   ]
  },
  {
   "cell_type": "code",
   "execution_count": 8,
   "id": "281ff0b4",
   "metadata": {},
   "outputs": [
    {
     "data": {
      "text/html": [
       "2.5"
      ],
      "text/latex": [
       "2.5"
      ],
      "text/markdown": [
       "2.5"
      ],
      "text/plain": [
       "[1] 2.5"
      ]
     },
     "metadata": {},
     "output_type": "display_data"
    }
   ],
   "source": [
    "if(length(X1) %% 2 != 0) {\n",
    "    median<-X1[(length(X1)-1)/2]\n",
    "} else {\n",
    "    median<-(X1[(length(X1))/2]+X1[(length(X1)+2)/2])/2\n",
    "}\n",
    "median"
   ]
  },
  {
   "cell_type": "markdown",
   "id": "29220f81",
   "metadata": {},
   "source": [
    "Формула для нахождения асимметрии: $$ A_s = (E(x - E(x))^3)/(D(x))^{3/2} $$"
   ]
  },
  {
   "cell_type": "code",
   "execution_count": 9,
   "id": "eb303143",
   "metadata": {},
   "outputs": [
    {
     "data": {
      "text/html": [
       "0.76773229885125"
      ],
      "text/latex": [
       "0.76773229885125"
      ],
      "text/markdown": [
       "0.76773229885125"
      ],
      "text/plain": [
       "[1] 0.7677323"
      ]
     },
     "metadata": {},
     "output_type": "display_data"
    }
   ],
   "source": [
    "assymmetry<-sum((x1-mean)^3)/(length(x1)*variance^(3/2));\n",
    "assymmetry"
   ]
  },
  {
   "cell_type": "markdown",
   "id": "633689d2",
   "metadata": {},
   "source": [
    "Формула для нахождения эксцесса: $$ E_k = (E(x - E(x))^4)/(D(x))^2 - 3 $$"
   ]
  },
  {
   "cell_type": "code",
   "execution_count": 10,
   "id": "67910a3b",
   "metadata": {},
   "outputs": [
    {
     "data": {
      "text/html": [
       "-0.0322897044787354"
      ],
      "text/latex": [
       "-0.0322897044787354"
      ],
      "text/markdown": [
       "-0.0322897044787354"
      ],
      "text/plain": [
       "[1] -0.0322897"
      ]
     },
     "metadata": {},
     "output_type": "display_data"
    }
   ],
   "source": [
    "excess<-(sum((x1-mean)^4)/(length(x1)*variance^2))-3;\n",
    "excess"
   ]
  },
  {
   "cell_type": "markdown",
   "id": "70e2d8f0",
   "metadata": {},
   "source": [
    "Формула для нахождения вероятности $P(X∈[c,d])$: $$ P(X∈[c,d]) = F(d) - F(c) $$"
   ]
  },
  {
   "cell_type": "code",
   "execution_count": 11,
   "id": "a6623c0a",
   "metadata": {},
   "outputs": [
    {
     "data": {
      "text/html": [
       "0.32"
      ],
      "text/latex": [
       "0.32"
      ],
      "text/markdown": [
       "0.32"
      ],
      "text/plain": [
       "[1] 0.32"
      ]
     },
     "metadata": {},
     "output_type": "display_data"
    }
   ],
   "source": [
    "F<- function(x,t){z<-x[x<t]; length(z)/length(x)}\n",
    "P<-F(x1,d)-F(x1,c)\n",
    "P"
   ]
  },
  {
   "cell_type": "markdown",
   "id": "d2c575c9",
   "metadata": {},
   "source": [
    "**c) В предположении, что исходные наблюдения являются выборкой из распределения Пуассона, построим оценку максимального правдоподобия параметра λ, а также оценку λ по методу моментов. Найти смещение оценок.**"
   ]
  },
  {
   "cell_type": "markdown",
   "id": "ba37d3b7",
   "metadata": {},
   "source": [
    "Плотность распределения Пуассона имеет вид: $$p(x)= λ^x/x!e^{-λ}, x = 0,1,2, ...$$  \n",
    "- Метод максимального правдоподобия\n",
    "Функция правдоподобия будет равна $$ L(\\vec{X}, λ) = \\prod_{i=1}^n λ^{X_i}/X_i!e^{-λ} = e^{-nλ}/(\\prod_{i=1}^n X_i!) λ^{\\sum_{i=1}^nX_i} $$\n",
    "И её логарифм $$ LL(\\vec{X}, λ) = ln(λ) * \\sum_{i=1}^nX_i - ln\\prod_{i=1}^n X_i! - nλ $$\n",
    "Дифференцируя по λ, получим $$ \\partial LL/\\partialλ = 1/λ \\sum_{i=1}^n X_i - n $$\n",
    "Приравняем производную к нулю $$ \\partial LL/\\partialλ = 0 \\to \\hat{λ} = 1/n \\sum_{i=1}^n X_i = \\overline{X} $$ - ОМП"
   ]
  },
  {
   "cell_type": "code",
   "execution_count": 12,
   "id": "a5830003",
   "metadata": {},
   "outputs": [
    {
     "name": "stderr",
     "output_type": "stream",
     "text": [
      "Loading required package: miscTools\n",
      "\n",
      "Please cite the 'maxLik' package as:\n",
      "Henningsen, Arne and Toomet, Ott (2011). maxLik: A package for maximum likelihood estimation in R. Computational Statistics 26(3), 443-458. DOI 10.1007/s00180-010-0217-1.\n",
      "\n",
      "If you have questions, suggestions, or comments regarding the 'maxLik' package, please use a forum or 'tracker' at maxLik's R-Forge site:\n",
      "https://r-forge.r-project.org/projects/maxlik/\n"
     ]
    },
    {
     "data": {
      "text/html": [
       "3.02"
      ],
      "text/latex": [
       "3.02"
      ],
      "text/markdown": [
       "3.02"
      ],
      "text/plain": [
       "[1] 3.02"
      ]
     },
     "metadata": {},
     "output_type": "display_data"
    }
   ],
   "source": [
    "library(maxLik)\n",
    "LL <- function(t) {\n",
    "    sum(dpois(x1,t[1],log=TRUE))\n",
    "}\n",
    "ml <- maxNR(LL,start=c(1))\n",
    "round(ml$estimate, 2)"
   ]
  },
  {
   "cell_type": "markdown",
   "id": "a08b4e22",
   "metadata": {},
   "source": [
    "- Метод моментов\n",
    "\n",
    "Математическое ожидание $ EX_1=λ $\n",
    "\n",
    "Выборочный средний момент $$ \\overline{X} = 1/n \\sum_{i=1}^n X_i \\to \\hat{λ} = 1/n \\sum_{i=1}^n X_i $$ \n",
    "\n",
    "И смещение оценки максимального правдоподобия $\\hat{λ}$ $$ E(\\hat{λ}) = E(\\overline{X}) = 1/n \\sum_{i=1}^n EX_i = 1/n * n * λ = λ $$\n",
    "Значит, $ \\hat{λ} = \\overline{X} $ – несмещенная оценка."
   ]
  },
  {
   "cell_type": "markdown",
   "id": "8ba94930",
   "metadata": {},
   "source": [
    "**d) Построить асимптотический доверительный интервал уровня значимости α_1=0.01 для параметра λ на базе оценки максимального правдоподобия.**"
   ]
  },
  {
   "cell_type": "markdown",
   "id": "d64fe622",
   "metadata": {},
   "source": [
    "Находим информацию по Фишеру: $$ lnP(x = m) = mln λ − ln(m) − λ$$\n",
    "$$ \\partial lnP(x = m)/\\partialλ = m/λ - 1$$\n",
    "$$ I_1(λ) = E(\\partial lnP(x = m)/ \\partial λ)^2 = E(m/λ - 1)^2 = 1/λ^2 E(m - λ)^2 = 1/λ^2 Dx = 1/λ $$\n",
    "$$ I(λ) = nI_1(λ) = n/λ $$\n",
    "Верно утверждение $\\sqrt{I(λ)}(\\hat{λ} - λ) ⇒ N(0,1)$, то есть оценка асимптотически нормальна.\n",
    "Подстановка ОМП вместо параметра в информацию Фишера не нарушает асимптотической\n",
    "нормальности, так как эксперимент регулярен.\n",
    "$$ \\sqrt{I_1(\\hat{λ})} * (\\hat{λ} - λ) ⇒ N(0,1) $$\n",
    "$$ \\sqrt{n/\\overline{x}} * (\\overline{x} - λ) ⇒ N(0,1) $$\n",
    "$$ p(-x_{\\alpha} <= \\sqrt{n/\\overline{x}} * (\\overline{x} - λ) <=  x_{\\alpha}) = Ф(x_{\\alpha}) - Ф(-x_{\\alpha}) = 2*Ф(x_{\\alpha}) - 1 = 1 - \\alpha_1 $$\n",
    "$$ p(\\overline{x} - x_{\\alpha} * \\sqrt{\\overline{x}/n} <= λ <=  \\overline{x} + x_{\\alpha} * \\sqrt{\\overline{x}/n}) = 1 - \\alpha_1 $$"
   ]
  },
  {
   "cell_type": "code",
   "execution_count": 13,
   "id": "9d0865f8",
   "metadata": {},
   "outputs": [
    {
     "name": "stdout",
     "output_type": "stream",
     "text": [
      "[1] 2.386954 3.653046\n"
     ]
    }
   ],
   "source": [
    "mean <- sum(x1)/length(x1)\n",
    "xa <- qnorm (1-alpha_1/2)\n",
    "T <- array(dim=2)\n",
    "T[1]<-mean-xa*sqrt(mean/length(x1)) #левая граница\n",
    "T[2]<-mean+xa*sqrt(mean/length(x1)) #правая граница\n",
    "\n",
    "print(T)"
   ]
  },
  {
   "cell_type": "markdown",
   "id": "fdf68b9d",
   "metadata": {},
   "source": [
    "**e) Используя гистограмму частот, построить критерий значимости χ2 проверки простой гипотезы согласия с распределением Пуассона с параметром λ0=5.00. Проверить гипотезу на уровне значимости α1=0,01. Вычислить наибольшее значение уровня значимости, на котором еще нет оснований отвергнуть данную гипотезу.**"
   ]
  },
  {
   "cell_type": "markdown",
   "id": "83a945c4",
   "metadata": {},
   "source": [
    "Теоретические частоты:\n",
    "\n",
    "Простая гипотеза $ H_0: p(x) = λ_0^x/x! e^{λ_0} $  "
   ]
  },
  {
   "cell_type": "code",
   "execution_count": 34,
   "id": "300263f6",
   "metadata": {},
   "outputs": [
    {
     "data": {
      "text/plain": [
       "x1\n",
       " 0  1  2  3  4  5  6  7  8 \n",
       " 2  7 16  9  5  5  3  2  1 "
      ]
     },
     "metadata": {},
     "output_type": "display_data"
    },
    {
     "name": "stdout",
     "output_type": "stream",
     "text": [
      "[1] 0.006737947\n",
      "[1] 0.03368973\n",
      "[1] 0.08422434\n",
      "[1] 0.1403739\n",
      "[1] 0.1754674\n",
      "[1] 0.1754674\n",
      "[1] 0.1462228\n",
      "[1] 0.1044449\n"
     ]
    },
    {
     "data": {
      "text/html": [
       "<ol class=list-inline>\n",
       "\t<li>0.336897349954273</li>\n",
       "\t<li>1.68448674977137</li>\n",
       "\t<li>4.21121687442842</li>\n",
       "\t<li>7.01869479071403</li>\n",
       "\t<li>8.77336848839253</li>\n",
       "\t<li>8.77336848839253</li>\n",
       "\t<li>7.31114040699378</li>\n",
       "\t<li>5.2222431478527</li>\n",
       "\t<li>6.66858370350036</li>\n",
       "</ol>\n"
      ],
      "text/latex": [
       "\\begin{enumerate*}\n",
       "\\item 0.336897349954273\n",
       "\\item 1.68448674977137\n",
       "\\item 4.21121687442842\n",
       "\\item 7.01869479071403\n",
       "\\item 8.77336848839253\n",
       "\\item 8.77336848839253\n",
       "\\item 7.31114040699378\n",
       "\\item 5.2222431478527\n",
       "\\item 6.66858370350036\n",
       "\\end{enumerate*}\n"
      ],
      "text/markdown": [
       "1. 0.336897349954273\n",
       "2. 1.68448674977137\n",
       "3. 4.21121687442842\n",
       "4. 7.01869479071403\n",
       "5. 8.77336848839253\n",
       "6. 8.77336848839253\n",
       "7. 7.31114040699378\n",
       "8. 5.2222431478527\n",
       "9. 6.66858370350036\n",
       "\n",
       "\n"
      ],
      "text/plain": [
       "[1] 0.3368973 1.6844867 4.2112169 7.0186948 8.7733685 8.7733685 7.3111404\n",
       "[8] 5.2222431 6.6685837"
      ]
     },
     "metadata": {},
     "output_type": "display_data"
    }
   ],
   "source": [
    "table(x1)\n",
    "intervals = length(table(x1))\n",
    "n_tr <- function(lmbd) {\n",
    "    n_t = c()\n",
    "    for (i in 1:(intervals - 1)) {\n",
    "        p = dpois(i - 1, lmbd)\n",
    "        n_t = c(n_t, p*length(x1))\n",
    "        print(p)\n",
    "    }\n",
    "    n_t = c(n_t, length(x1)-sum(n_t))\n",
    "    return(n_t)\n",
    "    }\n",
    "\n",
    "n_tr(lmbd_0)"
   ]
  },
  {
   "cell_type": "markdown",
   "id": "8d8376a3",
   "metadata": {},
   "source": [
    "Статистика критерия: $$ χ^2_{набл} = (n_k - np_k)^2/(np_k) $$"
   ]
  },
  {
   "cell_type": "code",
   "execution_count": 38,
   "id": "c60d8a88",
   "metadata": {},
   "outputs": [
    {
     "name": "stdout",
     "output_type": "stream",
     "text": [
      "[1] 0.006737947\n",
      "[1] 0.03368973\n",
      "[1] 0.08422434\n",
      "[1] 0.1403739\n",
      "[1] 0.1754674\n",
      "[1] 0.1754674\n",
      "[1] 0.1462228\n",
      "[1] 0.1044449\n",
      "[1] 0.006737947\n",
      "[1] 0.03368973\n",
      "[1] 0.08422434\n",
      "[1] 0.1403739\n",
      "[1] 0.1754674\n",
      "[1] 0.1754674\n",
      "[1] 0.1462228\n",
      "[1] 0.1044449\n"
     ]
    },
    {
     "data": {
      "text/html": [
       "71.1386438056152"
      ],
      "text/latex": [
       "71.1386438056152"
      ],
      "text/markdown": [
       "71.1386438056152"
      ],
      "text/plain": [
       "[1] 71.13864"
      ]
     },
     "metadata": {},
     "output_type": "display_data"
    },
    {
     "data": {
      "text/html": [
       "20.0902350296632"
      ],
      "text/latex": [
       "20.0902350296632"
      ],
      "text/markdown": [
       "20.0902350296632"
      ],
      "text/plain": [
       "[1] 20.09024"
      ]
     },
     "metadata": {},
     "output_type": "display_data"
    },
    {
     "data": {
      "text/html": [
       "2.91494340349231e-12"
      ],
      "text/latex": [
       "2.91494340349231e-12"
      ],
      "text/markdown": [
       "2.91494340349231e-12"
      ],
      "text/plain": [
       "[1] 2.914943e-12"
      ]
     },
     "metadata": {},
     "output_type": "display_data"
    }
   ],
   "source": [
    "S_K = sum((table(x1) - n_tr(lmbd_0))^2/n_tr(lmbd_0))\n",
    "S_K\n",
    "S_K_z = qchisq(1 - alpha_1, intervals - 1) \n",
    "S_K_z"
   ]
  },
  {
   "cell_type": "markdown",
   "id": "930f2e63",
   "metadata": {},
   "source": [
    "Так как $χ^2_{набл} > χ^2_{теор} $, мы не принимаем нулевую гипотезу.\n",
    "\n",
    "Наибольшее возможное значение уровня значимости, при котором нет оснований отвергнуть гипотезу о соответствии данных закону Пуассона:"
   ]
  },
  {
   "cell_type": "code",
   "execution_count": 39,
   "id": "6c4a1835",
   "metadata": {},
   "outputs": [
    {
     "data": {
      "text/html": [
       "2.91494340349231e-12"
      ],
      "text/latex": [
       "2.91494340349231e-12"
      ],
      "text/markdown": [
       "2.91494340349231e-12"
      ],
      "text/plain": [
       "[1] 2.914943e-12"
      ]
     },
     "metadata": {},
     "output_type": "display_data"
    },
    {
     "data": {
      "text/html": [
       "71.1386833041966"
      ],
      "text/latex": [
       "71.1386833041966"
      ],
      "text/markdown": [
       "71.1386833041966"
      ],
      "text/plain": [
       "[1] 71.13868"
      ]
     },
     "metadata": {},
     "output_type": "display_data"
    }
   ],
   "source": [
    "maxval <- pchisq(S_K, length(table(x1)) - 1,lower.tail = FALSE);\n",
    "maxval\n",
    "qchisq(1 - maxval, intervals - 1) "
   ]
  },
  {
   "cell_type": "markdown",
   "id": "ae80dc6a",
   "metadata": {},
   "source": [
    "**f) Построить критерий значимости χ2 проверки сложной гипотезы согласия с распределением Пуассона. Проверить гипотезу на уровне значимости α1=0,01. Вычислить наибольшее значение уровня значимости, на котором еще нет оснований отвергнуть данную гипотезу.**"
   ]
  },
  {
   "cell_type": "markdown",
   "id": "02e79d5a",
   "metadata": {},
   "source": [
    "Теоретические частоты:\n",
    "\n",
    "Вычисления производятся так же, как в предыдущем пункте, только за $ λ = \\overline{x} = 3.02$ (т. к. ОМП) будем брать полученную нами оценку.\n",
    "\n",
    "Основная гипотеза $ H_0: X ~ Pois(λ) $"
   ]
  },
  {
   "cell_type": "code",
   "execution_count": 46,
   "id": "6ccbdf68",
   "metadata": {},
   "outputs": [
    {
     "data": {
      "text/html": [
       "3.02"
      ],
      "text/latex": [
       "3.02"
      ],
      "text/markdown": [
       "3.02"
      ],
      "text/plain": [
       "[1] 3.02"
      ]
     },
     "metadata": {},
     "output_type": "display_data"
    },
    {
     "name": "stdout",
     "output_type": "stream",
     "text": [
      "[1] 0.04880122\n",
      "[1] 0.1473797\n",
      "[1] 0.2225433\n",
      "[1] 0.2240269\n",
      "[1] 0.1691403\n",
      "[1] 0.1021608\n",
      "[1] 0.05142092\n",
      "[1] 0.02218445\n"
     ]
    },
    {
     "data": {
      "text/html": [
       "<ol class=list-inline>\n",
       "\t<li>2.44006091810065</li>\n",
       "\t<li>7.36898397266396</li>\n",
       "\t<li>11.1271657987226</li>\n",
       "\t<li>11.2013469040474</li>\n",
       "\t<li>8.45701691255578</li>\n",
       "\t<li>5.10803821518369</li>\n",
       "\t<li>2.57104590164246</li>\n",
       "\t<li>1.10922266042289</li>\n",
       "\t<li>0.617118716660613</li>\n",
       "</ol>\n"
      ],
      "text/latex": [
       "\\begin{enumerate*}\n",
       "\\item 2.44006091810065\n",
       "\\item 7.36898397266396\n",
       "\\item 11.1271657987226\n",
       "\\item 11.2013469040474\n",
       "\\item 8.45701691255578\n",
       "\\item 5.10803821518369\n",
       "\\item 2.57104590164246\n",
       "\\item 1.10922266042289\n",
       "\\item 0.617118716660613\n",
       "\\end{enumerate*}\n"
      ],
      "text/markdown": [
       "1. 2.44006091810065\n",
       "2. 7.36898397266396\n",
       "3. 11.1271657987226\n",
       "4. 11.2013469040474\n",
       "5. 8.45701691255578\n",
       "6. 5.10803821518369\n",
       "7. 2.57104590164246\n",
       "8. 1.10922266042289\n",
       "9. 0.617118716660613\n",
       "\n",
       "\n"
      ],
      "text/plain": [
       "[1]  2.4400609  7.3689840 11.1271658 11.2013469  8.4570169  5.1080382  2.5710459\n",
       "[8]  1.1092227  0.6171187"
      ]
     },
     "metadata": {},
     "output_type": "display_data"
    }
   ],
   "source": [
    "mean(x1)\n",
    "n_tr(mean(x1))"
   ]
  },
  {
   "cell_type": "markdown",
   "id": "0f05984f",
   "metadata": {},
   "source": [
    "Статистика критерия:"
   ]
  },
  {
   "cell_type": "code",
   "execution_count": 47,
   "id": "2bbbcc26",
   "metadata": {
    "scrolled": true
   },
   "outputs": [
    {
     "name": "stdout",
     "output_type": "stream",
     "text": [
      "[1] 0.04880122\n",
      "[1] 0.1473797\n",
      "[1] 0.2225433\n",
      "[1] 0.2240269\n",
      "[1] 0.1691403\n",
      "[1] 0.1021608\n",
      "[1] 0.05142092\n",
      "[1] 0.02218445\n",
      "[1] 0.04880122\n",
      "[1] 0.1473797\n",
      "[1] 0.2225433\n",
      "[1] 0.2240269\n",
      "[1] 0.1691403\n",
      "[1] 0.1021608\n",
      "[1] 0.05142092\n",
      "[1] 0.02218445\n"
     ]
    },
    {
     "data": {
      "text/html": [
       "5.10428125254261"
      ],
      "text/latex": [
       "5.10428125254261"
      ],
      "text/markdown": [
       "5.10428125254261"
      ],
      "text/plain": [
       "[1] 5.104281"
      ]
     },
     "metadata": {},
     "output_type": "display_data"
    },
    {
     "data": {
      "text/html": [
       "18.4753069065824"
      ],
      "text/latex": [
       "18.4753069065824"
      ],
      "text/markdown": [
       "18.4753069065824"
      ],
      "text/plain": [
       "[1] 18.47531"
      ]
     },
     "metadata": {},
     "output_type": "display_data"
    }
   ],
   "source": [
    "S_K = sum((table(x1) - n_tr(mean(x1)))^2/n_tr(mean(x1)))\n",
    "S_K\n",
    "S_K_z = qchisq(1 - alpha_1, intervals - 2) \n",
    "S_K_z"
   ]
  },
  {
   "cell_type": "markdown",
   "id": "99b0e89b",
   "metadata": {},
   "source": [
    "Так как $χ^2_{набл} < χ^2_{теор} $, мы принимаем нулевую гипотезу.\n",
    "\n",
    "Наибольшее возможное значение уровня значимости, при котором нет оснований отвергнуть гипотезу о соответствии данных закону Пуассона:"
   ]
  },
  {
   "cell_type": "code",
   "execution_count": 48,
   "id": "319e066d",
   "metadata": {},
   "outputs": [
    {
     "data": {
      "text/html": [
       "0.647238869476148"
      ],
      "text/latex": [
       "0.647238869476148"
      ],
      "text/markdown": [
       "0.647238869476148"
      ],
      "text/plain": [
       "[1] 0.6472389"
      ]
     },
     "metadata": {},
     "output_type": "display_data"
    },
    {
     "data": {
      "text/html": [
       "5.10428125254261"
      ],
      "text/latex": [
       "5.10428125254261"
      ],
      "text/markdown": [
       "5.10428125254261"
      ],
      "text/plain": [
       "[1] 5.104281"
      ]
     },
     "metadata": {},
     "output_type": "display_data"
    }
   ],
   "source": [
    "maxval <- pchisq(S_K, length(table(x1)) - 2,lower.tail = FALSE);\n",
    "maxval\n",
    "qchisq(1 - maxval, intervals - 2) "
   ]
  },
  {
   "cell_type": "markdown",
   "id": "16399c93",
   "metadata": {},
   "source": [
    "**g) Построить наиболее мощный критерий проверки простой гипотезы пуассоновости с параметром λ = λ_0 = 5.00 при альтернативе с параметром λ= λ_1 = 3.00. Проверить гипотезу на уровне значимости α1. Что получится, если поменять местами основную и альтернативную гипотезы?**"
   ]
  },
  {
   "cell_type": "markdown",
   "id": "d275fe2d",
   "metadata": {},
   "source": [
    "Основная гипотеза 𝐻_0: 𝜆 = 𝜆_0 = 5.00, альтернативная гипотеза 𝐻_1: 𝜆 = 𝜆_1 = 3.00. \n",
    "\n",
    "Согласно лемме Неймана-Пирсона, наиболее мощный критерий задается системой:"
   ]
  },
  {
   "cell_type": "markdown",
   "id": "5dcde618",
   "metadata": {},
   "source": [
    "$$ \\phi(x) = \\left\\{\n",
    "    \\begin{array}\\\\\n",
    "        0 & \\mbox{if } \\ l(x;λ_1,λ_0) < C_{\\alpha} \\\\\n",
    "        p & \\mbox{if } \\ l(x;λ_1,λ_0) = C_{\\alpha} \\\\\n",
    "        1 & \\mbox{if } \\ l(x;λ_1,λ_0) > C_{\\alpha} \\\\\n",
    "    \\end{array}\n",
    "\\right. $$"
   ]
  },
  {
   "cell_type": "markdown",
   "id": "9c935a71",
   "metadata": {},
   "source": [
    "Функция правдоподобия распределения Пуассона: $$ L(x;λ) = λ^{\\sum_{i=1}^nx_i}/ \\prod_{i=1}^nx_i! e^{-nλ} $$\n",
    "Найдем l(x;λ_1,λ_0): $$ l(x;λ_1,λ_0) = L(x; λ_1)/L(x; λ_0) = (λ_1/λ_0)^{ \\sum_{i=1}^nx_i} e^{n(λ_0 - λ_1} = (5/3)^{\\sum_{i=1}^n x_i} e^{-2n}$$\n",
    "Логарифмируем выражение: $$ ln(5/3) \\sum_{i=1}^n x_i - 2n = lnC_{\\alpha} $$\n",
    "$$ \\sum_{i=1}^n x_i = (lnC_{\\alpha} + 2n)/ ln(5/3) $$\n",
    "Обозначим это выражение через $\\widetilde{C}$.\n",
    "\n",
    "Откуда критерий примет вид:\n",
    "$$ \\phi(x) = \\left\\{\n",
    "    \\begin{array}\\\\\n",
    "        0 & \\mbox{if } \\ \\sum_{i=1}^n x_i < \\widetilde{C} \\\\\n",
    "        p & \\mbox{if } \\ \\sum_{i=1}^n x_i = \\widetilde{C} \\\\\n",
    "        1 & \\mbox{if } \\ \\sum_{i=1}^n x_i > \\widetilde{C} \\\\\n",
    "    \\end{array}\n",
    "\\right. $$\n",
    "Найдем $\\widetilde{C}$ и p: \n",
    "$$ P_{λ_0}(x;λ_1,λ_0) > C) + pP_{λ_0}(l(x;λ_1,λ_0) = C) = P_{λ_0}(\\sum_{i=1}^n x_i < \\widetilde{C}) + pP_{λ_0}(\\sum_{i=1}^n x_i = \\widetilde{C}) = 1 - P_{λ_0}(\\sum_{i=1}^n x_i <= \\widetilde{C}) + pP_{λ_0}(\\sum_{i=1}^n x_i = \\widetilde{C}) = \\alpha $$\n",
    "Верно, что $ \\sum_{i=1}^n x_i ~ Pois(nλ_0) $.\n",
    "$$ p = (\\alpha - 1 + F_{nλ_0}(\\widetilde{C}))/(F_{nλ_0}(\\widetilde{C}) - F_{nλ_0}(\\widetilde{C} - 1))$$"
   ]
  },
  {
   "cell_type": "code",
   "execution_count": 52,
   "id": "d36c8a52",
   "metadata": {},
   "outputs": [
    {
     "name": "stdout",
     "output_type": "stream",
     "text": [
      "[1] 213\n",
      "[1] 0.524768\n",
      "[1] 0.01098297\n"
     ]
    }
   ],
   "source": [
    "c<-0\n",
    "a0<-ppois(c,lmbd_0*length(x1))\n",
    "while (a0<alpha_1) \n",
    "{\n",
    "   c<-c+1;\n",
    "   a0<-ppois(c,lmbd_0*length(x1))\n",
    "}\n",
    "c<-c-1\n",
    "print(c)\n",
    "p<-(alpha_1-ppois(c,lmbd_0*length(x1)))/dpois(c,lmbd_0*length(x1))\n",
    "print(p)\n",
    "print(a0)"
   ]
  },
  {
   "cell_type": "markdown",
   "id": "3f3e5ddb",
   "metadata": {},
   "source": [
    "$$ \\phi(x) = \\left\\{\n",
    "    \\begin{array}\\\\\n",
    "        0 & \\mbox{if } \\ \\sum_{i=1}^n x_i > 213 \\\\\n",
    "        0.524768 & \\mbox{if } \\ \\sum_{i=1}^n x_i = 213 \\\\\n",
    "        1 & \\mbox{if } \\ \\sum_{i=1}^n x_i < 213 \\\\\n",
    "    \\end{array}\n",
    "\\right. $$"
   ]
  },
  {
   "cell_type": "markdown",
   "id": "8081d3b8",
   "metadata": {},
   "source": [
    "По нашей выборке $ \\sum_{i=1}^n x_i = 151$ (<213). Значит, принимаем гипотезу H_0.\n",
    "\n",
    "Поменяем гипотезы местами. Для этого в вычислениях используем λ1.\n",
    "Критерий примет вид:\n",
    "$$ \\phi(x) = \\left\\{\n",
    "    \\begin{array}\\\\\n",
    "        1 & \\mbox{if } \\ \\sum_{i=1}^n x_i < \\widetilde{C} \\\\\n",
    "        p & \\mbox{if } \\ \\sum_{i=1}^n x_i = \\widetilde{C} \\\\\n",
    "        0 & \\mbox{if } \\ \\sum_{i=1}^n x_i > \\widetilde{C} \\\\\n",
    "    \\end{array}\n",
    "\\right. $$\n",
    "Найдем $\\widetilde{C}$ и p: \n",
    "$$ P_{λ_0}(x;λ_1,λ_0) < C) + pP_{λ_0}(l(x;λ_1,λ_0) = C) = P_{λ_0}(\\sum_{i=1}^n x_i <= \\widetilde{C} - 1) + pP_{λ_0}(\\sum_{i=1}^n x_i = \\widetilde{C}) = \\alpha $$\n",
    "Верно, что $ \\sum_{i=1}^n x_i ~ Pois(nλ_0) $.\n",
    "$$ p = (\\alpha - F_{nλ_0}(\\widetilde{C} - 1))/(F_{nλ_0}(\\widetilde{C}) - F_{nλ_0}(\\widetilde{C} - 1))$$"
   ]
  },
  {
   "cell_type": "code",
   "execution_count": 53,
   "id": "226290c3",
   "metadata": {
    "scrolled": true
   },
   "outputs": [
    {
     "name": "stdout",
     "output_type": "stream",
     "text": [
      "[1] 121\n",
      "[1] 0.9165829\n",
      "[1] 0.01056251\n"
     ]
    }
   ],
   "source": [
    "c<-0\n",
    "a0<-ppois(c,lmbd_1*length(x1))\n",
    "while (a0<alpha_1) \n",
    "{\n",
    "   c<-c+1;\n",
    "   a0<-ppois(c,lmbd_1*length(x1))\n",
    "}\n",
    "c<-c-1\n",
    "print(c)\n",
    "p<-(alpha_1-ppois(c,lmbd_1*length(x1)))/dpois(c,lmbd_1*length(x1))\n",
    "print(p)\n",
    "print(a0)\n"
   ]
  },
  {
   "cell_type": "markdown",
   "id": "3b1bd8cd",
   "metadata": {},
   "source": [
    "$$ \\phi(x) = \\left\\{\n",
    "    \\begin{array}\\\\\n",
    "        0 & \\mbox{if } \\ \\sum_{i=1}^n x_i > 121 \\\\\n",
    "        0.9165829 & \\mbox{if } \\ \\sum_{i=1}^n x_i = 121 \\\\\n",
    "        1 & \\mbox{if } \\ \\sum_{i=1}^n x_i < 121 \\\\\n",
    "    \\end{array}\n",
    "\\right. $$"
   ]
  },
  {
   "cell_type": "markdown",
   "id": "0fbbc114",
   "metadata": {},
   "source": [
    "По нашей выборке $ \\sum_{i=1}^n x_i = 151(>121)$. Значит, принимаем альтернативную гипотезу H_1."
   ]
  },
  {
   "cell_type": "markdown",
   "id": "3059c555",
   "metadata": {},
   "source": [
    "**h) В пунктах (c)-(f) заменить семейство распределений Пуассона на семейство геометрических распределений.**"
   ]
  },
  {
   "cell_type": "markdown",
   "id": "4b760cdb",
   "metadata": {},
   "source": [
    "В предположении, что исходные наблюдения являются выборкой из геометрического распределения, построить оценку максимального правдоподобия параметра λ, а также оценку λ по методу моментов. Найти смещение оценок. $$ P_λ(X = k) = λ^k/(λ + 1)^{k+1}, k = 0,1,2,3,... $$\n",
    "$$Ex = λ, Dx = λ(λ + 1) $$\n",
    "$$ P_λ(X = k) = (λ/(λ + 1)^k(1/(λ + 1), p = 1/(1 + λ) $$\n",
    "Найдем функцию правдоподобия:\n",
    "$$ lnL(\\overline{x};λ) = \\sum_{i=1}^n lnλ - \\sum_{i=1}^n x_i ln(λ + 1) - nln(λ + 1) $$\n",
    "Найдем производную: $$ \\partial lnL(\\overline{x};λ)/\\partial λ = (1/λ - 1/(λ + 1)) \\sum_{i=1}^nx_i - n/(λ + 1) = 0 $$\n",
    "$$ ((λ + 1)/λ - 1) \\sum_{i=1}^n x_i - n = 0 $$\n",
    "$$ 1/λ \\sum_{i=1}^n x_i - n = 0 $$\n",
    "$$ 1/λ \\sum_{i=1}^nx_i = n $$\n",
    "$$ \\hat{λ} = 1/n \\sum_{i=1}^n x_i = \\overline{x} $$"
   ]
  },
  {
   "cell_type": "code",
   "execution_count": 54,
   "id": "effee068",
   "metadata": {},
   "outputs": [
    {
     "data": {
      "text/html": [
       "3.02000000084802"
      ],
      "text/latex": [
       "3.02000000084802"
      ],
      "text/markdown": [
       "3.02000000084802"
      ],
      "text/plain": [
       "[1] 3.02"
      ]
     },
     "metadata": {},
     "output_type": "display_data"
    }
   ],
   "source": [
    "library(maxLik)\n",
    "lnL = function(t){\n",
    "    sum(dgeom(x1, t[1], log = TRUE))\n",
    "}\n",
    "\n",
    "ml = maxNR(lnL, start=c(0.5))\n",
    "mll = ml$estimate\n",
    "(1-mll)/mll\n"
   ]
  },
  {
   "cell_type": "markdown",
   "id": "64950b27",
   "metadata": {},
   "source": [
    "Метод моментов:\n",
    "$$ E(x) = λ, \\overline{x} = 1/n \\sum_{i=1}^n x_i $$\n",
    "$$ \\hat{λ} = \\overline{x} $$\n",
    "Оценка параметра по обоим методам одинаковая, найдем ее смещение:\n",
    "$ E(\\hat{λ}) = E(\\overline{x}) = 1/n \\sum_{i=1}^n E(x_i) = 1/n nλ = λ $, то есть оценка является несмещенной.\n",
    "\n",
    "Построить асимптотический доверительный интервал уровня значимости\n",
    "α1 = 0,01 для параметра λ на базе оценки максимального правдоподобия.\n",
    "\n",
    "Находим информацию Фишера:\n",
    "$$ I_1(λ) = -E((\\partial^2 lnf(x;λ))/ \\partialλ^2) = -E_λ(-x/λ^2 + (x + 1)/(λ + 1)^2) = 1/λ(1 + λ) $$\n",
    "$$ I(λ) = n/(λ(λ + 1)) $$\n",
    "Верно утверждение $\\sqrt{I(λ)}(\\hat{λ} - λ) ⇒ N(0,1)$, то есть оценка асимптотически нормальна.\n",
    "Подстановка ОМП вместо параметра в информацию Фишера не нарушает асимптотической\n",
    "нормальности, так как эксперимент регулярен.\n",
    "$$ \\sqrt{I_1(\\hat{λ})} * (\\hat{λ} - λ) ⇒ N(0,1) $$\n",
    "$$ \\sqrt{n/(\\overline{x}(\\overline{x} + 1)} * (\\overline{x} - λ) ⇒ N(0,1) $$\n",
    "$$ p(-x_{\\alpha} <= \\sqrt{n/(\\overline{x}(\\overline{x} + 1)} * (\\overline{x} - λ) <=  x_{\\alpha}) = Ф(x_{\\alpha}) - Ф(-x_{\\alpha}) = 2*Ф(x_{\\alpha}) - 1 = 1 - \\alpha_1 $$\n",
    "$$ p(\\overline{x} - x_{\\alpha} * \\sqrt{(\\overline{x}(\\overline{x} + 1)/n} <= λ <=  \\overline{x} + x_{\\alpha} * \\sqrt{(\\overline{x}(\\overline{x} + 1)/n}) = 1 - \\alpha_1 $$"
   ]
  },
  {
   "cell_type": "code",
   "execution_count": 55,
   "id": "56d857a5",
   "metadata": {},
   "outputs": [
    {
     "name": "stdout",
     "output_type": "stream",
     "text": [
      "[1] 1.750746 4.289254\n"
     ]
    }
   ],
   "source": [
    "mean <- sum(x1)/length(x1)\n",
    "xa <- qnorm (1-alpha_1/2)\n",
    "T <- array(dim=2)\n",
    "T[1]<-mean-xa*sqrt(mean*(mean + 1)/length(x1)) #левая граница\n",
    "T[2]<-mean+xa*sqrt(mean*(mean + 1)/length(x1)) #правая граница\n",
    "\n",
    "print(T)"
   ]
  },
  {
   "cell_type": "markdown",
   "id": "a081eff9",
   "metadata": {},
   "source": [
    "Используя гистограмму частот, построить критерий значимости χ2 проверки простой гипотезы согласия с распределением Пуассона с параметром λ0=5.00. Проверить гипотезу на уровне значимости α1=0,01. Вычислить наибольшее значение уровня значимости, на котором еще нет оснований отвергнуть данную гипотезу.\n",
    "\n",
    "Теоретические частоты:"
   ]
  },
  {
   "cell_type": "code",
   "execution_count": 58,
   "id": "30b8e0a3",
   "metadata": {},
   "outputs": [
    {
     "data": {
      "text/plain": [
       "x1\n",
       " 0  1  2  3  4  5  6  7  8 \n",
       " 2  7 16  9  5  5  3  2  1 "
      ]
     },
     "metadata": {},
     "output_type": "display_data"
    },
    {
     "data": {
      "text/html": [
       "<ol class=list-inline>\n",
       "\t<li>8.33333333333333</li>\n",
       "\t<li>6.94444444444444</li>\n",
       "\t<li>5.78703703703704</li>\n",
       "\t<li>4.82253086419753</li>\n",
       "\t<li>4.01877572016461</li>\n",
       "\t<li>3.34897976680384</li>\n",
       "\t<li>2.79081647233653</li>\n",
       "\t<li>2.32568039361378</li>\n",
       "\t<li>11.6284019680689</li>\n",
       "</ol>\n"
      ],
      "text/latex": [
       "\\begin{enumerate*}\n",
       "\\item 8.33333333333333\n",
       "\\item 6.94444444444444\n",
       "\\item 5.78703703703704\n",
       "\\item 4.82253086419753\n",
       "\\item 4.01877572016461\n",
       "\\item 3.34897976680384\n",
       "\\item 2.79081647233653\n",
       "\\item 2.32568039361378\n",
       "\\item 11.6284019680689\n",
       "\\end{enumerate*}\n"
      ],
      "text/markdown": [
       "1. 8.33333333333333\n",
       "2. 6.94444444444444\n",
       "3. 5.78703703703704\n",
       "4. 4.82253086419753\n",
       "5. 4.01877572016461\n",
       "6. 3.34897976680384\n",
       "7. 2.79081647233653\n",
       "8. 2.32568039361378\n",
       "9. 11.6284019680689\n",
       "\n",
       "\n"
      ],
      "text/plain": [
       "[1]  8.333333  6.944444  5.787037  4.822531  4.018776  3.348980  2.790816\n",
       "[8]  2.325680 11.628402"
      ]
     },
     "metadata": {},
     "output_type": "display_data"
    }
   ],
   "source": [
    "table(x1)\n",
    "intervals = length(table(x1))\n",
    "n_tr <- function(lmbd) { \n",
    " n_t = c()\n",
    " for (i in 1:(intervals - 1)){\n",
    " p = dgeom(i-1, 1/(1 + lmbd))\n",
    " n_t = c(n_t, p*length(x1))\n",
    " }\n",
    " n_t = c(n_t,length(x1)-sum(n_t))\n",
    " return(n_t)\n",
    " }\n",
    "\n",
    "n_tr(lmbd_0)"
   ]
  },
  {
   "cell_type": "markdown",
   "id": "7d3f7b66",
   "metadata": {},
   "source": [
    "Статистика критерия: $$ χ^2_{набл} = (n_k - np_k)^2/(np_k) $$"
   ]
  },
  {
   "cell_type": "code",
   "execution_count": 62,
   "id": "c6ddfde8",
   "metadata": {},
   "outputs": [
    {
     "data": {
      "text/html": [
       "28.7107722279635"
      ],
      "text/latex": [
       "28.7107722279635"
      ],
      "text/markdown": [
       "28.7107722279635"
      ],
      "text/plain": [
       "[1] 28.71077"
      ]
     },
     "metadata": {},
     "output_type": "display_data"
    },
    {
     "data": {
      "text/html": [
       "20.0902350296632"
      ],
      "text/latex": [
       "20.0902350296632"
      ],
      "text/markdown": [
       "20.0902350296632"
      ],
      "text/plain": [
       "[1] 20.09024"
      ]
     },
     "metadata": {},
     "output_type": "display_data"
    }
   ],
   "source": [
    "S_K = sum((table(x1) - n_tr(mean(x1)))^2/n_tr(mean(x1)))\n",
    "S_K\n",
    "S_K_z = qchisq(1 - alpha_1, intervals - 1) \n",
    "S_K_z"
   ]
  },
  {
   "cell_type": "markdown",
   "id": "3317648e",
   "metadata": {},
   "source": [
    "Так как $χ^2_{набл} < χ^2_{теор} $, мы принимаем гипотезу H0.\n",
    "\n",
    "Наибольшее возможное значение уровня значимости, при котором нет оснований отвергнуть гипотезу о соответствии данных закону Пуассона:"
   ]
  },
  {
   "cell_type": "code",
   "execution_count": 64,
   "id": "4f13528b",
   "metadata": {},
   "outputs": [
    {
     "data": {
      "text/html": [
       "0.000356363834432043"
      ],
      "text/latex": [
       "0.000356363834432043"
      ],
      "text/markdown": [
       "0.000356363834432043"
      ],
      "text/plain": [
       "[1] 0.0003563638"
      ]
     },
     "metadata": {},
     "output_type": "display_data"
    },
    {
     "data": {
      "text/html": [
       "28.7107722279634"
      ],
      "text/latex": [
       "28.7107722279634"
      ],
      "text/markdown": [
       "28.7107722279634"
      ],
      "text/plain": [
       "[1] 28.71077"
      ]
     },
     "metadata": {},
     "output_type": "display_data"
    }
   ],
   "source": [
    "maxval <- pchisq(S_K, length(table(x1)) - 1,lower.tail = FALSE);\n",
    "maxval\n",
    "qchisq(1 - maxval, intervals - 1)"
   ]
  },
  {
   "cell_type": "markdown",
   "id": "54128baf",
   "metadata": {},
   "source": [
    "Построить критерий значимости χ2 проверки сложной гипотезы согласия с геометрическим распределением. Проверить гипотезу на уровне значимости α1=0,01. Вычислить наибольшее значение уровня значимости, на котором еще нет оснований отвергнуть данную гипотезу.\n",
    "Необходимо проверить гипотезу о соответствии данных геометрическому закону распределении 𝐺𝑒𝑜𝑚(1/(1+𝜆)), параметр которого находится по выборке методом максимального правдоподобия.\n",
    "\n",
    "Теоретические частоты:"
   ]
  },
  {
   "cell_type": "code",
   "execution_count": 65,
   "id": "ca33445e",
   "metadata": {},
   "outputs": [
    {
     "data": {
      "text/html": [
       "<ol class=list-inline>\n",
       "\t<li>12.4378109452736</li>\n",
       "\t<li>9.34382812306626</li>\n",
       "\t<li>7.01949276906968</li>\n",
       "\t<li>5.2733502892016</li>\n",
       "\t<li>3.96157161029573</li>\n",
       "\t<li>2.9761060355953</li>\n",
       "\t<li>2.23578115111886</li>\n",
       "\t<li>1.67961668566641</li>\n",
       "\t<li>5.07244239071253</li>\n",
       "</ol>\n"
      ],
      "text/latex": [
       "\\begin{enumerate*}\n",
       "\\item 12.4378109452736\n",
       "\\item 9.34382812306626\n",
       "\\item 7.01949276906968\n",
       "\\item 5.2733502892016\n",
       "\\item 3.96157161029573\n",
       "\\item 2.9761060355953\n",
       "\\item 2.23578115111886\n",
       "\\item 1.67961668566641\n",
       "\\item 5.07244239071253\n",
       "\\end{enumerate*}\n"
      ],
      "text/markdown": [
       "1. 12.4378109452736\n",
       "2. 9.34382812306626\n",
       "3. 7.01949276906968\n",
       "4. 5.2733502892016\n",
       "5. 3.96157161029573\n",
       "6. 2.9761060355953\n",
       "7. 2.23578115111886\n",
       "8. 1.67961668566641\n",
       "9. 5.07244239071253\n",
       "\n",
       "\n"
      ],
      "text/plain": [
       "[1] 12.437811  9.343828  7.019493  5.273350  3.961572  2.976106  2.235781\n",
       "[8]  1.679617  5.072442"
      ]
     },
     "metadata": {},
     "output_type": "display_data"
    }
   ],
   "source": [
    "n_tr(mean(x1))"
   ]
  },
  {
   "cell_type": "markdown",
   "id": "8cc299d8",
   "metadata": {},
   "source": [
    "Статистика критерия:"
   ]
  },
  {
   "cell_type": "code",
   "execution_count": 67,
   "id": "eaecd765",
   "metadata": {},
   "outputs": [
    {
     "data": {
      "text/html": [
       "28.7107722279635"
      ],
      "text/latex": [
       "28.7107722279635"
      ],
      "text/markdown": [
       "28.7107722279635"
      ],
      "text/plain": [
       "[1] 28.71077"
      ]
     },
     "metadata": {},
     "output_type": "display_data"
    },
    {
     "data": {
      "text/html": [
       "18.4753069065824"
      ],
      "text/latex": [
       "18.4753069065824"
      ],
      "text/markdown": [
       "18.4753069065824"
      ],
      "text/plain": [
       "[1] 18.47531"
      ]
     },
     "metadata": {},
     "output_type": "display_data"
    }
   ],
   "source": [
    "S_K = sum((table(x1) - n_tr(mean(x1)))^2/n_tr(mean(x1)))\n",
    "S_K\n",
    "S_K_z = qchisq(1 - alpha_1, intervals - 2) \n",
    "S_K_z"
   ]
  },
  {
   "cell_type": "markdown",
   "id": "93c4a3c8",
   "metadata": {},
   "source": [
    "Так как $χ^2_{набл} > χ^2_{теор} $, мы отвергаем нулевую гипотезу.\n",
    "\n",
    "Наибольшее возможное значение уровня значимости, при котором нет оснований отвергнуть гипотезу о соответствии данных  геометрическому закону:"
   ]
  },
  {
   "cell_type": "code",
   "execution_count": 68,
   "id": "025499aa",
   "metadata": {},
   "outputs": [
    {
     "data": {
      "text/html": [
       "0.000163351234244924"
      ],
      "text/latex": [
       "0.000163351234244924"
      ],
      "text/markdown": [
       "0.000163351234244924"
      ],
      "text/plain": [
       "[1] 0.0001633512"
      ]
     },
     "metadata": {},
     "output_type": "display_data"
    },
    {
     "data": {
      "text/html": [
       "28.7107722279633"
      ],
      "text/latex": [
       "28.7107722279633"
      ],
      "text/markdown": [
       "28.7107722279633"
      ],
      "text/plain": [
       "[1] 28.71077"
      ]
     },
     "metadata": {},
     "output_type": "display_data"
    }
   ],
   "source": [
    "maxval <- pchisq(S_K, length(table(x1)) - 2,lower.tail = FALSE);\n",
    "maxval\n",
    "qchisq(1 - maxval, intervals - 2) "
   ]
  },
  {
   "cell_type": "markdown",
   "id": "98062212",
   "metadata": {},
   "source": [
    "Задание 2"
   ]
  },
  {
   "cell_type": "markdown",
   "id": "7f863633",
   "metadata": {},
   "source": [
    "**b)\tВычислим выборочные аналоги следующих числовых характеристик:**\n",
    "- (i) математического ожидания\n",
    "- (ii) дисперсии\n",
    "- (iii) медианы\n",
    "- (iv) асимметрии\n",
    "- (v) эксцесса\n",
    "- (vi) вероятности $P(X∈[c,d])$"
   ]
  },
  {
   "cell_type": "code",
   "execution_count": null,
   "id": "3e633703",
   "metadata": {},
   "outputs": [],
   "source": [
    "mean<-sum(x2)/length(x2)\n",
    "mean"
   ]
  },
  {
   "cell_type": "code",
   "execution_count": null,
   "id": "cc73399c",
   "metadata": {},
   "outputs": [],
   "source": [
    "variance<-sum(x2^2)/length(x2)-mean^2\n",
    "variance "
   ]
  },
  {
   "cell_type": "code",
   "execution_count": null,
   "id": "742a508d",
   "metadata": {},
   "outputs": [],
   "source": [
    "if(length(x2) %% 2 != 0) {\n",
    "    median<-x2[(length(x2)-1)/2]\n",
    "} else {\n",
    "    median<-(x2[(length(x2))/2]+x2[(length(x2)+2)/2])/2\n",
    "}\n",
    "median"
   ]
  },
  {
   "cell_type": "code",
   "execution_count": null,
   "id": "ee60a13e",
   "metadata": {},
   "outputs": [],
   "source": [
    "assymmetry<-sum((x2-mean)^3)/(length(x2)*variance^(3/2));\n",
    "assymmetry"
   ]
  },
  {
   "cell_type": "code",
   "execution_count": null,
   "id": "fad92075",
   "metadata": {},
   "outputs": [],
   "source": [
    "excess<-(sum((x2-mean)^4)/(length(x2)*variance^2))-3;\n",
    "excess"
   ]
  },
  {
   "cell_type": "code",
   "execution_count": null,
   "id": "4cc5838f",
   "metadata": {
    "scrolled": true
   },
   "outputs": [],
   "source": [
    "P<-F(x2,d)-F(x2,c)\n",
    "P"
   ]
  },
  {
   "cell_type": "markdown",
   "id": "20d3efa3",
   "metadata": {},
   "source": [
    "**c) В предположении, что исходные наблюдения являются выборкой из нормального распределения, построить оценку максимального правдоподобия параметров (a, σ^2) и соответствующие оценки по методу моментов. Найти смещение оценок.**"
   ]
  },
  {
   "cell_type": "markdown",
   "id": "330bd356",
   "metadata": {},
   "source": [
    "Плотность нормального распределения с параметрами (a, σ^2) имеет вид: $$p(x) = 1/(σ\\sqrt{2π})·e^{-(x-μ)²/(2σ²)} $$\n",
    " \n",
    "- Метод максимального правдоподобия\n",
    "\n",
    "Функция правдоподобия будет равна $$ L(\\vec{X}, a, σ^2) = \\prod_{i=1}^n 1/(σ\\sqrt{2π})·e^{-(x_i-a)²/(2σ²)} = σ^{-n}(2π)^{-n/2}e^{-\\sum_{i=1}^n (x_i - a)^2 / (2σ²)} $$\n",
    "И её логарифм $$ LL(\\vec{X}, a, σ^2) = -n* ln(σ) - n/2 ln(2π) - 1/(2σ²) \\sum_{i=1}^n (x_i - a)^2 $$\n",
    "Дифференцируя по a и σ, получим $$ \\partial LL/\\partial a = 1/σ^2 \\sum_{i=1}^n (x_i - a) <=> a = 1/n \\sum_{i=1}^n x_i = \\overline{x} $$\n",
    "$$ \\partial LL/\\partial σ = -n/σ + 1/σ^3 \\sum_{i=1}^n (x_i - a)^2 = 0 <=> σ^2 = 1/n \\sum_{i=1}^n (x_i - \\overline{x})^2 = 1/n \\sum_{i=1}^n x_i^2 - (\\overline{x})^2 = s^2 $$\n",
    "Посмотрим, являются ли оценки смещенными: $$ b(a) = E_a \\overline{x} - a = 1/n \\sum_{i=1}^n E_a x_i - a = na/n - a = 0 $$\n",
    "$$ b(σ^2) = E_{σ^2}s^2 - σ^2 = (n-1)/nσ^2 - σ^2 = -1/nσ^2 $$"
   ]
  },
  {
   "cell_type": "markdown",
   "id": "5a96ef51",
   "metadata": {},
   "source": [
    "- Метод моментов\n",
    "$$ \\overline{x} = a => a = \\overline{x} $$\n",
    "$$ 1/n \\sum_{i=1}^n x_i^2 = σ^2 + a^2 => σ^2 = 1/n \\sum_{i=1}^n x_i^2 - \\overline{x}^2 $$\n",
    "Оценка методом моментов совпала с ОМП, смещения посчитаны выше."
   ]
  },
  {
   "cell_type": "markdown",
   "id": "9162297e",
   "metadata": {},
   "source": [
    "**d) Построить доверительные интервалы уровня значимости α_2=0.01 для параметров (a, σ^2).**"
   ]
  },
  {
   "cell_type": "markdown",
   "id": "929dad9d",
   "metadata": {},
   "source": [
    "Построим доверительный интервал для а.\n",
    "\n",
    "Находим информацию по Фишеру: $$ \\sqrt(n-1) (\\overline{x} - a)/s => S_{n-1} $$\n",
    "$$ p(T_1 < \\sqrt(n-1) (\\overline{x} - a)/s <=  T_2) = S_{n-1}(T_2) - S_{n-1}(T_1) = 1 - \\alpha_2 $$\n",
    "$$ -t_{\\alpha} < \\sqrt{n-1} \\overline{x} - a)/s < t_{\\alpha}$$ где $t_{\\alpha}$ квантиль распределения Стьюдента уровня $ 1 - \\alpha_2/2$\n",
    "$$ \\overline{x} - st_{\\alpha}/\\sqrt{n-1} < a <  \\overline{x} + st_{\\alpha}/\\sqrt{n-1} $$"
   ]
  },
  {
   "cell_type": "code",
   "execution_count": 71,
   "id": "7875e59f",
   "metadata": {},
   "outputs": [
    {
     "name": "stdout",
     "output_type": "stream",
     "text": [
      "[1] 1.595697 2.360783\n"
     ]
    }
   ],
   "source": [
    "mean<-sum(x2)/length(x2)\n",
    "st <- 2.6778\n",
    "T<-array(dim=2)\n",
    "T[1]<- mean-st/sqrt(length(x2) - 1) #левая граница\n",
    "T[2]<- mean+st/sqrt(length(x2) - 1) #правая граница\n",
    "print(T)\n"
   ]
  },
  {
   "cell_type": "markdown",
   "id": "64b152d3",
   "metadata": {},
   "source": [
    "Построим доверительный интервал для σ^2. \n",
    "\n",
    "Находим информацию по Фишеру: $$ (ns^2)/σ^2 =>χ_{n-1}^2 $$ \n",
    "Введём $ x_{1\\alpha} $ и $ x_{2\\alpha} $ - квантили распределения $ χ_{n-1}^2 $ уровня $ \\alpha_2/2 $ и $ 1 - \\alpha_2/2  $ соответственно.\n",
    "Тогда $$ p((ns^2)/x_{2\\alpha} < σ^2 < (ns^2)/x_{1\\alpha}) = 1 - \\alpha_2 $$"
   ]
  },
  {
   "cell_type": "markdown",
   "id": "f1a2eeff",
   "metadata": {},
   "source": [
    "**e) С использованием теоремы Колмогорова построить критерий значимости проверки простой гипотезы согласия с нормальным распределением с параметрами (a, σ^2). Проверить гипотезу на уровне значимости α2. Вычислить наибольшее значение уровня значимости, на котором нет оснований отвергнуть данную гипотезу.**"
   ]
  },
  {
   "cell_type": "markdown",
   "id": "1c02ea9a",
   "metadata": {},
   "source": [
    "Гипотеза: $$ H_0: a = a_0; σ^2 = σ_0^2 $$\n",
    "Согласно теореме Колмогорова, при справедливости гипотезы: $$ \\sqrt(n) sup|F_n(y) - F(y)| => K, K - распределение Колмогорова $$\n",
    "Обозначим $$D_n = \\sqrt(n) sup|F_n(y) - F(y)| $$\n",
    "$$p(\\sqrt{n}D_n < λ_{\\alpha_2}) = 1 - \\alpha_2 $$\n",
    "Согласно таблице распределения Колмогорова, $λ_{\\alpha_2} = 1,63$\n",
    "\n",
    "Полученное значение $\\sqrt{n}Dn = 0.5053861 < λ_{\\alpha_2} $ - значит, H0 принимается. "
   ]
  },
  {
   "cell_type": "markdown",
   "id": "e9472db5",
   "metadata": {},
   "source": [
    "**f) Используя гистограмму частот, построить критерий значимости χ^2  проверки простой гипотезы согласия с нормальным распределением с параметрами (a_0, σ_0^2). Проверить гипотезу на уровне значимости α2 . Вычислить наибольшее значение уровня значимости, на котором ещё нет основания отвергнуть данную гипотезу.**"
   ]
  },
  {
   "cell_type": "markdown",
   "id": "024bf255",
   "metadata": {},
   "source": [
    "Простая гипотеза согласия:  $H_0: a = a_0; σ^2 = σ_0^2 $"
   ]
  },
  {
   "cell_type": "code",
   "execution_count": 77,
   "id": "a3188c8b",
   "metadata": {},
   "outputs": [
    {
     "data": {
      "text/plain": [
       "x2\n",
       "1.428 1.612 1.614 1.647 1.717 1.731 1.738 1.747 1.758 1.771 1.797 1.802 1.803 \n",
       "    1     1     1     1     1     1     1     1     1     1     1     1     1 \n",
       "1.879 1.888  1.89 1.902 1.909 1.919 1.927 1.946 1.961 1.983 1.984 1.991 2.005 \n",
       "    1     1     1     1     1     1     1     1     1     1     1     1     1 \n",
       "2.026 2.032 2.042 2.043 2.065 2.093 2.103 2.113 2.114 2.123 2.126 2.128 2.141 \n",
       "    1     2     1     1     1     1     1     1     1     1     1     1     1 \n",
       "2.155  2.16 2.162 2.184 2.229 2.252 2.258 2.264 2.296 2.422 \n",
       "    1     1     1     1     1     1     1     1     1     1 "
      ]
     },
     "metadata": {},
     "output_type": "display_data"
    }
   ],
   "source": [
    "table(x2)\n"
   ]
  },
  {
   "cell_type": "code",
   "execution_count": null,
   "id": "c276ea67",
   "metadata": {},
   "outputs": [],
   "source": [
    "[1.4;1.45), [1.45;1.5), [1.5, 1.55), [1.55, 1.6), [1.6, 1.65), [1.65, 1.7), [1.7,1.75), [1.75, 1.8), [1.8, 1.85)"
   ]
  }
 ],
 "metadata": {
  "kernelspec": {
   "display_name": "R",
   "language": "R",
   "name": "ir"
  },
  "language_info": {
   "codemirror_mode": "r",
   "file_extension": ".r",
   "mimetype": "text/x-r-source",
   "name": "R",
   "pygments_lexer": "r",
   "version": "3.6.1"
  }
 },
 "nbformat": 4,
 "nbformat_minor": 5
}
